{
 "cells": [
  {
   "metadata": {
    "collapsed": true,
    "ExecuteTime": {
     "end_time": "2024-12-02T12:30:36.402295Z",
     "start_time": "2024-12-02T12:30:35.342146Z"
    }
   },
   "cell_type": "code",
   "outputs": [
    {
     "name": "stdout",
     "output_type": "stream",
     "text": [
      "Epoch 0, Loss: 0.7132\n",
      "Epoch 100, Loss: 0.6811\n",
      "Epoch 200, Loss: 0.6777\n",
      "Epoch 300, Loss: 0.6769\n",
      "Epoch 400, Loss: 0.6767\n",
      "Epoch 500, Loss: 0.6766\n",
      "Epoch 600, Loss: 0.6766\n",
      "Epoch 700, Loss: 0.6766\n",
      "Epoch 800, Loss: 0.6766\n",
      "Epoch 900, Loss: 0.6766\n",
      "Test Loss: 0.6391\n",
      "F1 Score: 0.2004\n"
     ]
    }
   ],
   "execution_count": 17,
   "source": [
    "import numpy as np\n",
    "from sklearn.model_selection import train_test_split\n",
    "import pandas as pd\n",
    "from sklearn.metrics import f1_score\n",
    "\n",
    "data = pd.read_excel('cleaned_dataset.xlsx')\n",
    "y = data['Class']\n",
    "transport_columns = [col for col in data.columns if 'Type_of_Transport_Used_' in col]\n",
    "transport_data = data[transport_columns]\n",
    "transport = transport_data.astype(int).to_numpy()\n",
    "\n",
    "# Split the data into training and testing sets\n",
    "X_train, X_test, y_train, y_test = train_test_split(transport, y, test_size=0.3, random_state=42)\n",
    "\n",
    "#X_train, X_test, y_train, y_test = train_test_split(transport, y, test_size=0.3, random_state=42)\n",
    "\n",
    "# Step 2: Initialize parameters\n",
    "n_features = X_train.shape[1]\n",
    "n_classes = len(np.unique(y))  # 4 obesity levels\n",
    "W = np.random.randn(n_features, n_classes) * 0.01  # Small random weights\n",
    "b = np.zeros((1, n_classes))  # Bias initialized to zero\n",
    "\n",
    "# Step 3: Define helper functions\n",
    "def softmax(z):\n",
    "    exp_z = np.exp(z - np.max(z, axis=1, keepdims=True))  # Stability trick\n",
    "    return exp_z / np.sum(exp_z, axis=1, keepdims=True)\n",
    "\n",
    "def mean_squared_error(y_true, y_pred):\n",
    "    return np.mean((y_true - y_pred) ** 2)\n",
    "\n",
    "def compute_gradients(X, y_true, y_prob, y_pred):\n",
    "    n_samples = X.shape[0]\n",
    "    \n",
    "    # Gradients for weights and bias (based on probabilities)\n",
    "    dW = (1 / n_samples) * np.dot(X.T, (y_prob - np.eye(n_classes)[y_true.astype(int) - 1]))\n",
    "    db = (1 / n_samples) * np.sum(y_prob - np.eye(n_classes)[y_true.astype(int) - 1], axis=0, keepdims=True)\n",
    "    \n",
    "    return dW, db\n",
    "\n",
    "# Step 4: Training loop\n",
    "learning_rate = 0.1\n",
    "n_epochs = 1000\n",
    "\n",
    "for epoch in range(n_epochs):\n",
    "    # Forward pass\n",
    "    logits = np.dot(X_train, W) + b  # Compute logits\n",
    "    y_prob = softmax(logits)  # Class probabilities\n",
    "    y_pred = np.sum(y_prob * np.arange(1, n_classes + 1), axis=1)  # Expected value (scalar prediction)\n",
    "    \n",
    "    # Compute loss\n",
    "    loss = mean_squared_error(y_train, y_pred)\n",
    "    \n",
    "    # Backward pass\n",
    "    dW, db = compute_gradients(X_train, y_train, y_prob, y_pred)\n",
    "    \n",
    "    # Update parameters\n",
    "    W -= learning_rate * dW\n",
    "    b -= learning_rate * db\n",
    "    \n",
    "    # Print loss every 100 epochs\n",
    "    if epoch % 100 == 0:\n",
    "        print(f\"Epoch {epoch}, Loss: {loss:.4f}\")\n",
    "\n",
    "# Step 5: Evaluate on test set\n",
    "logits_test = np.dot(X_test, W) + b\n",
    "y_prob_test = softmax(logits_test)\n",
    "y_pred_test = np.sum(y_prob_test * np.arange(1, n_classes + 1), axis=1)\n",
    "test_loss = mean_squared_error(y_test, y_pred_test)\n",
    "print(f\"Test Loss: {test_loss:.4f}\")\n",
    "y_pred_test_rounded = np.round(y_pred_test)\n",
    "f1 = f1_score(y_test, y_pred_test_rounded, average='weighted')\n",
    "print(f\"F1 Score: {f1:.4f}\")"
   ],
   "id": "initial_id"
  }
 ],
 "metadata": {
  "kernelspec": {
   "display_name": "Python 3",
   "language": "python",
   "name": "python3"
  },
  "language_info": {
   "codemirror_mode": {
    "name": "ipython",
    "version": 2
   },
   "file_extension": ".py",
   "mimetype": "text/x-python",
   "name": "python",
   "nbconvert_exporter": "python",
   "pygments_lexer": "ipython2",
   "version": "2.7.6"
  }
 },
 "nbformat": 4,
 "nbformat_minor": 5
}
