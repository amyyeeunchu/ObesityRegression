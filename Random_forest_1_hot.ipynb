{
 "cells": [
  {
   "cell_type": "code",
   "execution_count": 1,
   "id": "60d72da9-ef7b-4199-be9b-1f8353aacca5",
   "metadata": {},
   "outputs": [],
   "source": [
    "import pandas as pd\n",
    "import numpy as np\n",
    "import matplotlib.pyplot as plt\n",
    "import seaborn as sns # statistical data visualization\n",
    "from sklearn.model_selection import train_test_split\n",
    "from sklearn.ensemble import RandomForestClassifier\n",
    "from sklearn.metrics import mean_squared_error, r2_score\n",
    "from sklearn.model_selection import GridSearchCV, StratifiedKFold\n",
    "from sklearn.svm import SVC"
   ]
  },
  {
   "cell_type": "code",
   "execution_count": 2,
   "id": "9273a35b-21c5-4fde-a089-c5bdf9faf61c",
   "metadata": {},
   "outputs": [
    {
     "name": "stdout",
     "output_type": "stream",
     "text": [
      "0       4\n",
      "1       2\n",
      "2       4\n",
      "3       3\n",
      "4       3\n",
      "       ..\n",
      "1605    3\n",
      "1606    2\n",
      "1607    2\n",
      "1608    4\n",
      "1609    3\n",
      "Name: Class, Length: 1610, dtype: int64\n"
     ]
    }
   ],
   "source": [
    "df = pd.read_excel('cleaned_dataset.xlsx')\n",
    "# Shuffle the data\n",
    "obesity_data = df.sample(frac=1, random_state=42).reset_index(drop=True)\n",
    "print(obesity_data['Class'])"
   ]
  },
  {
   "cell_type": "code",
   "execution_count": 3,
   "id": "6033e42e-b147-4020-ab14-b16650247948",
   "metadata": {},
   "outputs": [
    {
     "name": "stdout",
     "output_type": "stream",
     "text": [
      "Class\n",
      "2    658\n",
      "3    592\n",
      "4    287\n",
      "1     73\n",
      "Name: count, dtype: int64\n"
     ]
    }
   ],
   "source": [
    "# Ensure consistent reference to the DataFrame\n",
    "transport_columns = [col for col in obesity_data.columns if 'Type_of_Transportation_Used_' in col]\n",
    "transport_data = obesity_data[transport_columns]\n",
    "\n",
    "# Aggregate transport columns into a single feature (e.g., summing)\n",
    "transport_feature = transport_data.astype(int).sum(axis=1)\n",
    "\n",
    "# Update the feature set X to include the new transport feature\n",
    "X = obesity_data[['Sex', 'Age', 'Height', 'Overweight_Obese_Family', \n",
    "                  'Consumption_of_Fast_Food', 'Frequency_of_Consuming_Vegetables', \n",
    "                  'Number_of_Main_Meals_Daily', 'Food_Intake_Between_Meals', 'Smoking', \n",
    "                  'Liquid_Intake_Daily', 'Calculation_of_Calorie_Intake', \n",
    "                  'Physical_Excercise', 'Schedule_Dedicated_to_Technology']].copy()\n",
    "\n",
    "X['Transport_Feature'] = transport_feature  # Add transport feature\n",
    "\n",
    "# Target variable\n",
    "y = obesity_data['Class']\n",
    "\n",
    "# Print class distribution\n",
    "print(y.value_counts())\n",
    "\n",
    "# Train-test split\n",
    "X_train, X_test, y_train, y_test = train_test_split(X, y, test_size=0.2, random_state=42)"
   ]
  },
  {
   "cell_type": "code",
   "execution_count": 4,
   "id": "5b210066-44d9-4456-b1a6-eebd474297bd",
   "metadata": {},
   "outputs": [
    {
     "name": "stdout",
     "output_type": "stream",
     "text": [
      "(1288, 14) (322, 14)\n",
      "(1288,) (322,)\n",
      "29      2\n",
      "99      3\n",
      "678     3\n",
      "1399    3\n",
      "185     3\n",
      "       ..\n",
      "617     2\n",
      "629     4\n",
      "1574    3\n",
      "1323    2\n",
      "948     2\n",
      "Name: Class, Length: 322, dtype: int64\n"
     ]
    }
   ],
   "source": [
    "print(X_train.shape, X_test.shape)\n",
    "print(y_train.shape, y_test.shape)\n",
    "print(y_test)"
   ]
  },
  {
   "cell_type": "code",
   "execution_count": 5,
   "id": "555935e8-c8e7-4c75-bced-fd06e381ad68",
   "metadata": {},
   "outputs": [
    {
     "name": "stdout",
     "output_type": "stream",
     "text": [
      "Class\n",
      "2    537\n",
      "3    466\n",
      "4    229\n",
      "1     56\n",
      "Name: count, dtype: int64\n"
     ]
    }
   ],
   "source": [
    "# Check the class distribution in the training set\n",
    "print(y_train.value_counts())"
   ]
  },
  {
   "cell_type": "code",
   "execution_count": 6,
   "id": "79ef6d02-65e1-4259-9d8e-e7c59815cfbb",
   "metadata": {},
   "outputs": [],
   "source": [
    "from imblearn.combine import SMOTETomek\n",
    "\n",
    "smote_tomek = SMOTETomek(random_state=42)\n",
    "X_resampled, y_resampled = smote_tomek.fit_resample(X_train, y_train)"
   ]
  },
  {
   "cell_type": "code",
   "execution_count": 7,
   "id": "e965ca1d-6649-409a-baf1-5ed9ac921e09",
   "metadata": {},
   "outputs": [
    {
     "name": "stdout",
     "output_type": "stream",
     "text": [
      "Best hyperparameters: {'max_features': 3, 'min_samples_leaf': 1, 'n_estimators': 200}\n"
     ]
    }
   ],
   "source": [
    "param_grid = {\n",
    "    'n_estimators': [50, 100, 200],\n",
    "    'max_features': [3, 5, 11], \n",
    "    'min_samples_leaf': [1, 2, 5]\n",
    "}\n",
    "rf_classifier = RandomForestClassifier(random_state=42)\n",
    "# Define StratifiedKFold with random_state to control cross-validation randomness\n",
    "cv = StratifiedKFold(n_splits=5, shuffle=True, random_state=42)\n",
    "\n",
    "grid_search = GridSearchCV(estimator=rf_classifier, param_grid=param_grid, scoring='accuracy', n_jobs=-1, refit=True, cv=cv, verbose=0)\n",
    "grid_search.fit(X_resampled, y_resampled)\n",
    "\n",
    "best_params = grid_search.best_params_\n",
    "print(\"Best hyperparameters:\", best_params)\n",
    "# model evaluation"
   ]
  },
  {
   "cell_type": "code",
   "execution_count": 8,
   "id": "8dcf73c4-7891-446f-9c27-92bbbc144b96",
   "metadata": {},
   "outputs": [
    {
     "name": "stdout",
     "output_type": "stream",
     "text": [
      "Accuracy with best hyperparameters: 0.8416149068322981\n"
     ]
    }
   ],
   "source": [
    "best_rf_classifier = grid_search.best_estimator_\n",
    "accuracy = best_rf_classifier.score(X_test, y_test)\n",
    "print(\"Accuracy with best hyperparameters:\", accuracy)\n",
    "#y_pred = best_rf_classifier.predict(X_test)"
   ]
  },
  {
   "cell_type": "code",
   "execution_count": 9,
   "id": "f8a7e4ae-9d2b-4d3b-b8df-4b122197265e",
   "metadata": {},
   "outputs": [
    {
     "name": "stdout",
     "output_type": "stream",
     "text": [
      "Classification Report:\n",
      "              precision    recall  f1-score   support\n",
      "\n",
      "           1       0.77      0.59      0.67        17\n",
      "           2       0.86      0.86      0.86       121\n",
      "           3       0.83      0.87      0.85       126\n",
      "           4       0.84      0.83      0.83        58\n",
      "\n",
      "    accuracy                           0.84       322\n",
      "   macro avg       0.83      0.79      0.80       322\n",
      "weighted avg       0.84      0.84      0.84       322\n",
      "\n",
      "Accuracy: 0.84\n"
     ]
    }
   ],
   "source": [
    "from sklearn.metrics import classification_report, accuracy_score\n",
    "best_model = best_rf_classifier\n",
    "y_pred = best_model.predict(X_test)\n",
    "print(\"Classification Report:\")\n",
    "print(classification_report(y_test, y_pred))\n",
    "print(f\"Accuracy: {accuracy_score(y_test, y_pred):.2f}\")"
   ]
  },
  {
   "cell_type": "code",
   "execution_count": 10,
   "id": "d06073cc-0cc7-4d56-aa53-16cefcc53082",
   "metadata": {},
   "outputs": [
    {
     "name": "stdout",
     "output_type": "stream",
     "text": [
      "Balanced Accuracy: 0.7851012495812422\n"
     ]
    }
   ],
   "source": [
    "from sklearn.metrics import balanced_accuracy_score\n",
    "\n",
    "balanced_acc = balanced_accuracy_score(y_test, y_pred)\n",
    "print(\"Balanced Accuracy:\", balanced_acc)"
   ]
  },
  {
   "cell_type": "code",
   "execution_count": 11,
   "id": "3626f59d-e288-4a85-9eac-83c07fa3db4d",
   "metadata": {},
   "outputs": [
    {
     "data": {
      "text/plain": [
       "Physical_Excercise                   0.171921\n",
       "Age                                  0.170174\n",
       "Frequency_of_Consuming_Vegetables    0.104083\n",
       "Number_of_Main_Meals_Daily           0.103513\n",
       "Height                               0.091839\n",
       "Liquid_Intake_Daily                  0.071662\n",
       "Food_Intake_Between_Meals            0.059833\n",
       "Schedule_Dedicated_to_Technology     0.051404\n",
       "Sex                                  0.038495\n",
       "Transport_Feature                    0.036245\n",
       "Consumption_of_Fast_Food             0.032483\n",
       "Smoking                              0.032135\n",
       "Overweight_Obese_Family              0.018681\n",
       "Calculation_of_Calorie_Intake        0.017533\n",
       "dtype: float64"
      ]
     },
     "execution_count": 11,
     "metadata": {},
     "output_type": "execute_result"
    }
   ],
   "source": [
    "feature_scores = pd.Series(best_rf_classifier.feature_importances_, index=X_train.columns).sort_values(ascending=False)\n",
    "feature_scores"
   ]
  },
  {
   "cell_type": "code",
   "execution_count": 12,
   "id": "f6ce6e8f-4e5d-46e4-9eba-510b5f9f9b20",
   "metadata": {},
   "outputs": [
    {
     "data": {
      "image/png": "[encoded data removed]",
      "text/plain": [
       "<Figure size 640x480 with 1 Axes>"
      ]
     },
     "metadata": {},
     "output_type": "display_data"
    }
   ],
   "source": [
    "sns.barplot(x=feature_scores, y=feature_scores.index)\n",
    "\n",
    "plt.xlabel('Feature Importance Score')\n",
    "plt.ylabel('Features')\n",
    "plt.title(\"Visualizing Important Features\")\n",
    "plt.show()"
   ]
  },
  {
   "cell_type": "code",
   "execution_count": null,
   "id": "345471b6-3c3b-4f22-b7bd-b5a2e3591ea3",
   "metadata": {},
   "outputs": [],
   "source": []
  },
  {
   "cell_type": "code",
   "execution_count": null,
   "id": "053a46ea-c45a-4f1a-b485-8054dc350457",
   "metadata": {},
   "outputs": [],
   "source": []
  },
  {
   "cell_type": "code",
   "execution_count": null,
   "id": "a6f65eea-8cca-4684-ae9f-528052e06f33",
   "metadata": {},
   "outputs": [],
   "source": []
  }
 ],
 "metadata": {
  "kernelspec": {
   "display_name": "Python (myenv)",
   "language": "python",
   "name": "myenv"
  },
  "language_info": {
   "codemirror_mode": {
    "name": "ipython",
    "version": 3
   },
   "file_extension": ".py",
   "mimetype": "text/x-python",
   "name": "python",
   "nbconvert_exporter": "python",
   "pygments_lexer": "ipython3",
   "version": "3.13.0"
  }
 },
 "nbformat": 4,
 "nbformat_minor": 5
}
