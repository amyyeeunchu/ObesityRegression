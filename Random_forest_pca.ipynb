{
 "cells": [
  {
   "cell_type": "code",
   "execution_count": 1,
   "id": "39b81389-8394-41e7-bbd6-337dc52e5ce0",
   "metadata": {},
   "outputs": [],
   "source": [
    "import pandas as pd\n",
    "import numpy as np\n",
    "import matplotlib.pyplot as plt\n",
    "import seaborn as sns # statistical data visualization\n",
    "from sklearn.model_selection import train_test_split\n",
    "from sklearn.ensemble import RandomForestClassifier\n",
    "from sklearn.metrics import mean_squared_error, r2_score\n",
    "from sklearn.model_selection import GridSearchCV, StratifiedKFold\n",
    "from sklearn.svm import SVC"
   ]
  },
  {
   "cell_type": "code",
   "execution_count": 2,
   "id": "10e139d9-f65b-424c-9548-23b05279d7fa",
   "metadata": {},
   "outputs": [],
   "source": [
    "df = pd.read_excel('RawObesityDataset.xlsx')\n",
    "# Shuffle the data"
   ]
  },
  {
   "cell_type": "code",
   "execution_count": 3,
   "id": "d02b8290-47a6-423f-9d83-0875c6749389",
   "metadata": {},
   "outputs": [],
   "source": [
    "from sklearn.preprocessing import LabelEncoder\n",
    "\n",
    "# I am a bit uncomfortable with the idea of encoding binary features to 1 and 2.\n",
    "# Instead, I mapped them to 1 and 0\n",
    "df['Sex'] = df['Sex'].map({1.0: 1, 2.0: 0})\n",
    "df['Overweight_Obese_Family'] = df['Overweight_Obese_Family'].map({1.0: False, 2.0: True})\n",
    "df['Smoking'] = df['Smoking'].map({1.0: False, 2.0: True})\n",
    "df['Calculation_of_Calorie_Intake'] = df['Calculation_of_Calorie_Intake'].map({1.0: False, 2.0: True})"
   ]
  },
  {
   "cell_type": "code",
   "execution_count": 4,
   "id": "593fdc45-c967-47b0-8635-65ac47485f65",
   "metadata": {},
   "outputs": [],
   "source": [
    "from sklearn.preprocessing import StandardScaler\n",
    "\n",
    "continuous_features = [\n",
    "    'Age',\n",
    "    'Height',\n",
    "    'Consumption_of_Fast_Food',\n",
    "    'Frequency_of_Consuming_Vegetables',\n",
    "    'Number_of_Main_Meals_Daily',\n",
    "    'Food_Intake_Between_Meals',\n",
    "    'Liquid_Intake_Daily',\n",
    "    'Physical_Excercise',\n",
    "    'Schedule_Dedicated_to_Technology',\n",
    "    'Type_of_Transportation_Used']\n",
    "scaler = StandardScaler()\n",
    "df[continuous_features] = scaler.fit_transform(df[continuous_features])\n",
    "df = df.sample(frac=1, random_state=42).reset_index(drop=True)"
   ]
  },
  {
   "cell_type": "code",
   "execution_count": 5,
   "id": "80cf274b-dac3-41c8-b2a0-25b69c5d32fc",
   "metadata": {},
   "outputs": [
    {
     "name": "stdout",
     "output_type": "stream",
     "text": [
      "0      -1.098269\n",
      "1       0.878124\n",
      "2       0.878124\n",
      "3      -1.098269\n",
      "4       0.878124\n",
      "          ...   \n",
      "1605    1.536922\n",
      "1606   -1.098269\n",
      "1607    0.878124\n",
      "1608   -1.098269\n",
      "1609   -0.439471\n",
      "Name: Type_of_Transportation_Used, Length: 1610, dtype: float64\n"
     ]
    }
   ],
   "source": [
    "# Save the DataFrame to Excel\n",
    "df.to_excel(\"adjusted_dataset.xlsx\", index=False)\n",
    "obesity_data = df.sample(frac=1, random_state=42).reset_index(drop=True)\n",
    "print(obesity_data['Type_of_Transportation_Used'])"
   ]
  },
  {
   "cell_type": "code",
   "execution_count": 6,
   "id": "f41538f0-48d2-484a-aa1f-013603841af5",
   "metadata": {},
   "outputs": [],
   "source": [
    "X = obesity_data[['Sex', 'Age', 'Height', 'Overweight_Obese_Family', 'Consumption_of_Fast_Food', 'Frequency_of_Consuming_Vegetables', 'Number_of_Main_Meals_Daily', 'Food_Intake_Between_Meals', 'Smoking', 'Liquid_Intake_Daily', 'Calculation_of_Calorie_Intake', 'Physical_Excercise', 'Schedule_Dedicated_to_Technology', 'Type_of_Transportation_Used']]\n",
    "y = obesity_data['Class']\n",
    "#print(obesity_data.columns)\n",
    "X_train, X_test, y_train, y_test = train_test_split(X, y, test_size=0.2, random_state=42)"
   ]
  },
  {
   "cell_type": "code",
   "execution_count": 7,
   "id": "d0482cf4-d5ee-470c-a80d-0ebdc1c49467",
   "metadata": {},
   "outputs": [],
   "source": [
    "from imblearn.combine import SMOTETomek\n",
    "\n",
    "smote_tomek = SMOTETomek(random_state=42)\n",
    "X_resampled, y_resampled = smote_tomek.fit_resample(X_train, y_train)"
   ]
  },
  {
   "cell_type": "code",
   "execution_count": 8,
   "id": "9a691bfe-190e-42c8-b3d2-49ab125a6546",
   "metadata": {},
   "outputs": [
    {
     "name": "stdout",
     "output_type": "stream",
     "text": [
      "Best hyperparameters: {'max_features': 3, 'min_samples_leaf': 1, 'n_estimators': 100}\n"
     ]
    }
   ],
   "source": [
    "param_grid = {\n",
    "    'n_estimators': [50, 100, 200],\n",
    "    'max_features': [3, 5, 11], \n",
    "    'min_samples_leaf': [1, 2, 5]\n",
    "}\n",
    "rf_classifier = RandomForestClassifier(random_state=42)\n",
    "# Define StratifiedKFold with random_state to control cross-validation randomness\n",
    "cv = StratifiedKFold(n_splits=5, shuffle=True, random_state=42)\n",
    "\n",
    "grid_search = GridSearchCV(estimator=rf_classifier, param_grid=param_grid, scoring='accuracy', n_jobs=-1, refit=True, cv=cv, verbose=0)\n",
    "grid_search.fit(X_resampled, y_resampled)\n",
    "\n",
    "best_params = grid_search.best_params_\n",
    "print(\"Best hyperparameters:\", best_params)"
   ]
  },
  {
   "cell_type": "code",
   "execution_count": 9,
   "id": "68f19fb9-29da-425a-94c9-927a65ee17db",
   "metadata": {},
   "outputs": [
    {
     "name": "stdout",
     "output_type": "stream",
     "text": [
      "Accuracy with best hyperparameters: 0.860248447204969\n",
      "Classification Report:\n",
      "              precision    recall  f1-score   support\n",
      "\n",
      "           1       0.69      0.90      0.78        10\n",
      "           2       0.84      0.90      0.87       125\n",
      "           3       0.89      0.79      0.84       130\n",
      "           4       0.90      0.91      0.90        57\n",
      "\n",
      "    accuracy                           0.86       322\n",
      "   macro avg       0.83      0.88      0.85       322\n",
      "weighted avg       0.86      0.86      0.86       322\n",
      "\n",
      "Accuracy: 0.86\n"
     ]
    }
   ],
   "source": [
    "# Fit the best model (from grid search) on the resampled data\n",
    "best_rf_classifier = grid_search.best_estimator_\n",
    "best_rf_classifier.fit(X_resampled, y_resampled)\n",
    "\n",
    "# Evaluate the performance on the test data\n",
    "accuracy = best_rf_classifier.score(X_test, y_test)\n",
    "print(\"Accuracy with best hyperparameters:\", accuracy)\n",
    "\n",
    "# Make predictions and print classification report\n",
    "y_pred = best_rf_classifier.predict(X_test)\n",
    "print(\"Classification Report:\")\n",
    "from sklearn.metrics import classification_report, accuracy_score\n",
    "print(classification_report(y_test, y_pred))\n",
    "print(f\"Accuracy: {accuracy_score(y_test, y_pred):.2f}\")"
   ]
  },
  {
   "cell_type": "code",
   "execution_count": 10,
   "id": "1755df2d-5534-4b73-97ac-e03706854655",
   "metadata": {},
   "outputs": [
    {
     "name": "stdout",
     "output_type": "stream",
     "text": [
      "Balanced Accuracy: 0.8771470985155196\n"
     ]
    }
   ],
   "source": [
    "from sklearn.metrics import balanced_accuracy_score\n",
    "\n",
    "balanced_acc = balanced_accuracy_score(y_test, y_pred)\n",
    "print(\"Balanced Accuracy:\", balanced_acc)"
   ]
  },
  {
   "cell_type": "code",
   "execution_count": 14,
   "id": "705e1e6f-e4f5-4fdd-9be1-fc41fce0324b",
   "metadata": {},
   "outputs": [
    {
     "data": {
      "text/plain": [
       "Age                                  0.171188\n",
       "Physical_Excercise                   0.169115\n",
       "Number_of_Main_Meals_Daily           0.105997\n",
       "Frequency_of_Consuming_Vegetables    0.098495\n",
       "Height                               0.091880\n",
       "Liquid_Intake_Daily                  0.066473\n",
       "Type_of_Transportation_Used          0.060737\n",
       "Food_Intake_Between_Meals            0.055217\n",
       "Schedule_Dedicated_to_Technology     0.042680\n",
       "Sex                                  0.040263\n",
       "Smoking                              0.030412\n",
       "Consumption_of_Fast_Food             0.028524\n",
       "Calculation_of_Calorie_Intake        0.020734\n",
       "Overweight_Obese_Family              0.018284\n",
       "dtype: float64"
      ]
     },
     "execution_count": 14,
     "metadata": {},
     "output_type": "execute_result"
    }
   ],
   "source": [
    "feature_scores = pd.Series(best_rf_classifier.feature_importances_, index=X_train.columns).sort_values(ascending=False)\n",
    "feature_scores"
   ]
  },
  {
   "cell_type": "code",
   "execution_count": 15,
   "id": "386fec9f-681e-42b9-82ff-1a30ce5152a3",
   "metadata": {},
   "outputs": [
    {
     "data": {
      "image/png": "[encoded data removed]",
      "text/plain": [
       "<Figure size 640x480 with 1 Axes>"
      ]
     },
     "metadata": {},
     "output_type": "display_data"
    }
   ],
   "source": [
    "sns.barplot(x=feature_scores, y=feature_scores.index)\n",
    "\n",
    "plt.xlabel('Feature Importance Score')\n",
    "plt.ylabel('Features')\n",
    "plt.title(\"Visualizing Important Features\")\n",
    "plt.show()"
   ]
  },
  {
   "cell_type": "code",
   "execution_count": 34,
   "id": "93c72b74-22d7-4175-b2dd-681dda81a077",
   "metadata": {},
   "outputs": [
    {
     "name": "stdout",
     "output_type": "stream",
     "text": [
      "Explained variance ratio: [0.29315515 0.17146855 0.12660844 0.10413836 0.09147867 0.07262173\n",
      " 0.05969489 0.04883015 0.03200407]\n",
      "Number of components: 9\n"
     ]
    }
   ],
   "source": [
    "# Assuming you have the feature importances from Random Forest\n",
    "feature_importances = best_rf_classifier.feature_importances_\n",
    "important_features = X_train.columns[np.argsort(feature_importances)[::-1]]  # Ranked by importance\n",
    "\n",
    "# Optionally select the top N features\n",
    "top_n = 12  # Adjust as needed\n",
    "selected_features = important_features[:top_n]\n",
    "\n",
    "X_train_selected = X_resampled[selected_features]\n",
    "X_test_selected = X_test[selected_features]\n",
    "\n",
    "from sklearn.preprocessing import StandardScaler\n",
    "\n",
    "scaler = StandardScaler()\n",
    "X_train_scaled = scaler.fit_transform(X_train_selected)\n",
    "X_test_scaled = scaler.transform(X_test_selected)\n",
    "\n",
    "from sklearn.decomposition import PCA\n",
    "\n",
    "# Initialize PCA and retain enough components to explain 95% variance\n",
    "pca = PCA(n_components=0.98, random_state=42)  # Retain 95% of variance\n",
    "X_train_pca = pca.fit_transform(X_train_scaled)\n",
    "X_test_pca = pca.transform(X_test_scaled)\n",
    "\n",
    "# Explained variance ratio\n",
    "print(\"Explained variance ratio:\", pca.explained_variance_ratio_)\n",
    "print(\"Number of components:\", pca.n_components_)\n",
    "\n",
    "#print(\"X_train_resampled shape:\", X_train_selected.shape)\n",
    "#print(\"y_train_resampled shape:\", y_resampled.shape)\n",
    "#print(\"X_test_selected shape:\", X_test_selected.shape)\n",
    "#print(\"y_test shape:\", y_test.shape)\n",
    "#print(\"X_train_pca shape:\", X_train_pca.shape)\n",
    "#print(\"X_test_pca shape:\", X_test_pca.shape)\n",
    "#print(\"X_resampled shape:\", X_resampled.shape)\n",
    "#print(\"y_resampled shape:\", y_resampled.shape)"
   ]
  },
  {
   "cell_type": "code",
   "execution_count": null,
   "id": "e4d77994-b8de-42ef-981e-db5d6b8934c6",
   "metadata": {},
   "outputs": [],
   "source": []
  },
  {
   "cell_type": "code",
   "execution_count": 35,
   "id": "6c8238ef-4d8b-4e18-9a79-87d70c21d32a",
   "metadata": {},
   "outputs": [
    {
     "name": "stdout",
     "output_type": "stream",
     "text": [
      "Accuracy with PCA-transformed data: 0.7888198757763976\n"
     ]
    }
   ],
   "source": [
    "best_rf_classifier.fit(X_train_pca, y_resampled)\n",
    "\n",
    "# Evaluate on test data\n",
    "accuracy = best_rf_classifier.score(X_test_pca, y_test)\n",
    "print(\"Accuracy with PCA-transformed data:\", accuracy)"
   ]
  },
  {
   "cell_type": "code",
   "execution_count": null,
   "id": "bc6630ac-7af4-4ac0-a74e-24ed96fa5c2a",
   "metadata": {},
   "outputs": [],
   "source": []
  }
 ],
 "metadata": {
  "kernelspec": {
   "display_name": "Python (myenv)",
   "language": "python",
   "name": "myenv"
  },
  "language_info": {
   "codemirror_mode": {
    "name": "ipython",
    "version": 3
   },
   "file_extension": ".py",
   "mimetype": "text/x-python",
   "name": "python",
   "nbconvert_exporter": "python",
   "pygments_lexer": "ipython3",
   "version": "3.13.0"
  }
 },
 "nbformat": 4,
 "nbformat_minor": 5
}
